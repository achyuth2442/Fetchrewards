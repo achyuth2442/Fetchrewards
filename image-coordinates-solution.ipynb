{
 "cells": [
  {
   "cell_type": "markdown",
   "metadata": {},
   "source": [
    "Import the Math library which we use later to find the square root"
   ]
  },
  {
   "cell_type": "code",
   "execution_count": 1,
   "metadata": {},
   "outputs": [],
   "source": [
    "import math"
   ]
  },
  {
   "cell_type": "markdown",
   "metadata": {},
   "source": [
    "In below cell we are accepting our first input which is rows and columns enter the rows and columns as x,y and press enter.\n",
    "example if you want to have 3 rows and 3 columns just run the cell and type 3,3 and press enter key"
   ]
  },
  {
   "cell_type": "code",
   "execution_count": 2,
   "metadata": {},
   "outputs": [
    {
     "name": "stdout",
     "output_type": "stream",
     "text": [
      "Enter Rows and Columns\n",
      "just type m,n and press enter ex:3,3 and enter\n",
      "3,3\n"
     ]
    }
   ],
   "source": [
    "#Lets take the number of rows and columns from the user.\n",
    "print(\"Enter Rows and Columns\\njust type m,n and press enter ex:3,3 and enter\")\n",
    "rows,columns=tuple(map(int,input().split(',')))"
   ]
  },
  {
   "cell_type": "markdown",
   "metadata": {},
   "source": [
    "Displaying the Rows value"
   ]
  },
  {
   "cell_type": "code",
   "execution_count": 3,
   "metadata": {},
   "outputs": [
    {
     "data": {
      "text/plain": [
       "3"
      ]
     },
     "execution_count": 3,
     "metadata": {},
     "output_type": "execute_result"
    }
   ],
   "source": [
    "rows"
   ]
  },
  {
   "cell_type": "markdown",
   "metadata": {},
   "source": [
    "Displaying the column values"
   ]
  },
  {
   "cell_type": "code",
   "execution_count": 4,
   "metadata": {},
   "outputs": [
    {
     "data": {
      "text/plain": [
       "3"
      ]
     },
     "execution_count": 4,
     "metadata": {},
     "output_type": "execute_result"
    }
   ],
   "source": [
    "columns"
   ]
  },
  {
   "cell_type": "markdown",
   "metadata": {},
   "source": [
    "Now we are taking the second input from the user which is corner points, so we gonna take 4 corner points. Example of how to enter the corner points are if you want to enter (1,1),(3,1),(1,3) and (3,1) follow these steps, run the cell and when the input bar pops up type 1,1 press enter key then type 3,1 press enter key then type 1,3 then press enter key then type 3,1 then press enter key"
   ]
  },
  {
   "cell_type": "code",
   "execution_count": 5,
   "metadata": {},
   "outputs": [
    {
     "name": "stdout",
     "output_type": "stream",
     "text": [
      "Enter Corner points\n",
      "just type x,y and press enter\n",
      "1,1\n",
      "3,1\n",
      "1,3\n",
      "3,3\n"
     ]
    }
   ],
   "source": [
    "#lets take the corner points from user.\n",
    "print(\"Enter Corner points\\njust type x,y and press enter\")\n",
    "corners=[]\n",
    "for i in range(4):\n",
    "    corners.append(tuple(map(float,input().split(','))))"
   ]
  },
  {
   "cell_type": "markdown",
   "metadata": {},
   "source": [
    "I am taking the pixels list and copying the first corner to the pixel which we later use it to finding the remaining pixels"
   ]
  },
  {
   "cell_type": "code",
   "execution_count": 6,
   "metadata": {},
   "outputs": [],
   "source": [
    "corners\n",
    "pixels = corners[0:1]"
   ]
  },
  {
   "cell_type": "markdown",
   "metadata": {},
   "source": [
    "Displaying the pixels value"
   ]
  },
  {
   "cell_type": "code",
   "execution_count": 7,
   "metadata": {},
   "outputs": [
    {
     "data": {
      "text/plain": [
       "[(1.0, 1.0)]"
      ]
     },
     "execution_count": 7,
     "metadata": {},
     "output_type": "execute_result"
    }
   ],
   "source": [
    "pixels"
   ]
  },
  {
   "cell_type": "markdown",
   "metadata": {},
   "source": [
    "Displaying the corners this is just for seeing the corner values"
   ]
  },
  {
   "cell_type": "code",
   "execution_count": 8,
   "metadata": {},
   "outputs": [
    {
     "name": "stdout",
     "output_type": "stream",
     "text": [
      "Entered Corner points\n",
      "\n",
      "1.0 1.0\n",
      "3.0 1.0\n",
      "1.0 3.0\n",
      "3.0 3.0\n"
     ]
    }
   ],
   "source": [
    "print(\"Entered Corner points\\n\")\n",
    "for (x,y) in corners:\n",
    "    print(x,y)"
   ]
  },
  {
   "cell_type": "markdown",
   "metadata": {},
   "source": [
    "The cell below is find the distance between the two horizontal corner points(corner 1 and 2) through which we can get an idea of\n",
    "how much distance is need in between the columns to make them evenly spaced."
   ]
  },
  {
   "cell_type": "code",
   "execution_count": 9,
   "metadata": {},
   "outputs": [],
   "source": [
    "# lets find the distance between the points on x-axis and y-axis\n",
    "column_distance = math.sqrt(pow((corners[1][0]-corners[0][0]),2)+pow((corners[1][1]-corners[0][1]),2))"
   ]
  },
  {
   "cell_type": "markdown",
   "metadata": {},
   "source": [
    "Displaying the Total Column Distance"
   ]
  },
  {
   "cell_type": "code",
   "execution_count": 10,
   "metadata": {},
   "outputs": [
    {
     "data": {
      "text/plain": [
       "2.0"
      ]
     },
     "execution_count": 10,
     "metadata": {},
     "output_type": "execute_result"
    }
   ],
   "source": [
    "column_distance"
   ]
  },
  {
   "cell_type": "markdown",
   "metadata": {},
   "source": [
    "The cell below is find the distance between the two vertical corner points(corner 1 and 3) through which we can get an idea of how much distance is need in between the rows to make them evenly spaced."
   ]
  },
  {
   "cell_type": "code",
   "execution_count": 11,
   "metadata": {},
   "outputs": [],
   "source": [
    "row_distance = math.sqrt(pow((corners[2][0]-corners[0][0]),2)+pow((corners[2][1]-corners[0][1]),2))"
   ]
  },
  {
   "cell_type": "markdown",
   "metadata": {},
   "source": [
    "Displaying the Total row distance"
   ]
  },
  {
   "cell_type": "code",
   "execution_count": 12,
   "metadata": {},
   "outputs": [
    {
     "data": {
      "text/plain": [
       "2.0"
      ]
     },
     "execution_count": 12,
     "metadata": {},
     "output_type": "execute_result"
    }
   ],
   "source": [
    "row_distance"
   ]
  },
  {
   "cell_type": "markdown",
   "metadata": {},
   "source": [
    "Now we are calculating the actual distance between the pixels to get them evenly spaced"
   ]
  },
  {
   "cell_type": "code",
   "execution_count": 13,
   "metadata": {},
   "outputs": [],
   "source": [
    "#Now we need to calculate the distance to distribute the pixels evenly.for example if we need them to be divded to n rows\n",
    "#and m columns then we need to divide the distance into n-1 and m-1 parts to evenly space the pixels.\n",
    "row_pixel_dist=round((row_distance/(rows-1)),2)\n",
    "col_pixel_dist=round((column_distance/(columns-1)),2)    "
   ]
  },
  {
   "cell_type": "markdown",
   "metadata": {},
   "source": [
    "Displaying the Row Pixel distance and column pixel distance"
   ]
  },
  {
   "cell_type": "code",
   "execution_count": 14,
   "metadata": {},
   "outputs": [
    {
     "name": "stdout",
     "output_type": "stream",
     "text": [
      "rowpixel distance: 1.0\n",
      "columnpixel distance: 1.0\n"
     ]
    }
   ],
   "source": [
    "print(\"rowpixel distance:\",row_pixel_dist)\n",
    "print(\"columnpixel distance:\",col_pixel_dist)"
   ]
  },
  {
   "cell_type": "markdown",
   "metadata": {},
   "source": [
    "The below function is to add the column distance to the x coordinate."
   ]
  },
  {
   "cell_type": "code",
   "execution_count": 15,
   "metadata": {},
   "outputs": [],
   "source": [
    "def add_pixel(x,y):\n",
    "    return round(x+col_pixel_dist,2),y"
   ]
  },
  {
   "cell_type": "markdown",
   "metadata": {},
   "source": [
    "In below cell we are calculating the first row values by adding the column pixel distance to the first corner. we are looping this for columns-2 times as we already have the first and second corners and rest we need are the middle points.\n",
    "Example of how this functions for the corners (1,1),(3,1),(1,3),(3,3), here our first corner (1,1) is taken in to pixels and we caluclated the row pixel distance and column pixel distance both values are 1 as we want to divide them to 3*3 grid. so we add the column distance to the x coordinate of first corner (1+1,1) we get (2,1) and append that to pixel, now the pixels has (1,1),(2,1) and after the loops gets fininshed we are extending the pixels by adding the second corner so the pixels get updated to (1,1),(2,1),(3,1) therefore we got our first row coordinates from below cell."
   ]
  },
  {
   "cell_type": "code",
   "execution_count": 16,
   "metadata": {},
   "outputs": [],
   "source": [
    "temp=pixels[0]\n",
    "for i in range(columns-2):\n",
    "    pixels.append(tuple(map(float,(add_pixel(temp[0],temp[1])))))\n",
    "    temp=pixels[-1]\n",
    "pixels.extend(corners[1:2])"
   ]
  },
  {
   "cell_type": "markdown",
   "metadata": {},
   "source": [
    "Displaying the pixels techincally the first row."
   ]
  },
  {
   "cell_type": "code",
   "execution_count": 17,
   "metadata": {},
   "outputs": [
    {
     "data": {
      "text/plain": [
       "[(1.0, 1.0), (2.0, 1.0), (3.0, 1.0)]"
      ]
     },
     "execution_count": 17,
     "metadata": {},
     "output_type": "execute_result"
    }
   ],
   "source": [
    "pixels"
   ]
  },
  {
   "cell_type": "markdown",
   "metadata": {},
   "source": [
    "In the below cell for the first row values we are adding row pixel distance to the y coordinates and building up the next row. This process continues for row-1 times as we already have one row. Example of how this works for the same corners we have pixels as (1,1),(2,1),(3,1) so we take pixels[-columns::] to temp(this means we are taking the columns number of values from pixels in backward direction i.e. we get the previous row values to temp). for first time we get (1,1),(2,1),(3,1) to temp now in temp we keep on adding the row pixel distance to y coordinate and we are rounding that value to 2 decimal points."
   ]
  },
  {
   "cell_type": "code",
   "execution_count": 18,
   "metadata": {},
   "outputs": [],
   "source": [
    "for i in range(rows-1):\n",
    "    temp = pixels[-columns::]\n",
    "    for (x,y) in temp:\n",
    "        pixels.append(tuple(map(float,(x,round((y+row_pixel_dist),2)))))"
   ]
  },
  {
   "cell_type": "markdown",
   "metadata": {},
   "source": [
    "Displaying the pixel grid."
   ]
  },
  {
   "cell_type": "code",
   "execution_count": 19,
   "metadata": {},
   "outputs": [
    {
     "name": "stdout",
     "output_type": "stream",
     "text": [
      "pixels points are:\n",
      " [(1.0, 1.0), (2.0, 1.0), (3.0, 1.0), (1.0, 2.0), (2.0, 2.0), (3.0, 2.0), (1.0, 3.0), (2.0, 3.0), (3.0, 3.0)]\n"
     ]
    }
   ],
   "source": [
    "print(\"pixels points are:\\n\",pixels)"
   ]
  },
  {
   "cell_type": "code",
   "execution_count": 20,
   "metadata": {},
   "outputs": [],
   "source": [
    "import matplotlib.pyplot as plt"
   ]
  },
  {
   "cell_type": "markdown",
   "metadata": {},
   "source": [
    "Plotting all the pixel points using scatter plot."
   ]
  },
  {
   "cell_type": "code",
   "execution_count": 21,
   "metadata": {},
   "outputs": [
    {
     "data": {
      "image/png": "[encoded data removed]",
      "text/plain": [
       "<Figure size 432x288 with 1 Axes>"
      ]
     },
     "metadata": {
      "needs_background": "light"
     },
     "output_type": "display_data"
    }
   ],
   "source": [
    "for i in range(rows*columns):\n",
    "    plt.scatter(pixels[i][0],pixels[i][1])\n",
    "plt.axis([0,5,0,10])\n",
    "plt.show()"
   ]
  }
 ],
 "metadata": {
  "kernelspec": {
   "display_name": "Python 3",
   "language": "python",
   "name": "python3"
  },
  "language_info": {
   "codemirror_mode": {
    "name": "ipython",
    "version": 3
   },
   "file_extension": ".py",
   "mimetype": "text/x-python",
   "name": "python",
   "nbconvert_exporter": "python",
   "pygments_lexer": "ipython3",
   "version": "3.8.5"
  }
 },
 "nbformat": 4,
 "nbformat_minor": 4
}
